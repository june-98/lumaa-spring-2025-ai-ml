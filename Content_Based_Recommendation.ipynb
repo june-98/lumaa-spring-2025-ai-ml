{
 "cells": [
  {
   "cell_type": "code",
   "execution_count": 1,
   "id": "7e4c8777-4800-4a4d-b7c1-5b9b46cad21d",
   "metadata": {},
   "outputs": [
    {
     "name": "stderr",
     "output_type": "stream",
     "text": [
      "[nltk_data] Downloading package wordnet to /Users/june/nltk_data...\n",
      "[nltk_data]   Package wordnet is already up-to-date!\n",
      "[nltk_data] Downloading package omw-1.4 to /Users/june/nltk_data...\n",
      "[nltk_data]   Package omw-1.4 is already up-to-date!\n",
      "[nltk_data] Downloading package stopwords to /Users/june/nltk_data...\n",
      "[nltk_data]   Package stopwords is already up-to-date!\n",
      "[nltk_data] Downloading package punkt to /Users/june/nltk_data...\n",
      "[nltk_data]   Package punkt is already up-to-date!\n"
     ]
    }
   ],
   "source": [
    "from data_process import finalize_movie_dataset, text_preprocessing\n",
    "from movie_context_recommender import main\n",
    "import pandas as pd\n",
    "pd.set_option('display.max_colwidth', None)"
   ]
  },
  {
   "cell_type": "code",
   "execution_count": 2,
   "id": "7709d585-4c1c-485f-8c13-357ba32f961c",
   "metadata": {},
   "outputs": [],
   "source": [
    "FILE_PATH = r\"Data/tmdb_5000_movies.csv\"\n",
    "USER_INPUT = \"I love thrilling action movies set in space, with a comedic twist.\"\n",
    "TOP_K = 5"
   ]
  },
  {
   "cell_type": "code",
   "execution_count": 3,
   "id": "b0381fe0-a366-45a2-97b8-fc0c72a9132d",
   "metadata": {},
   "outputs": [],
   "source": [
    "top_recs = main(FILE_PATH, USER_INPUT, TOP_K)"
   ]
  },
  {
   "cell_type": "code",
   "execution_count": 4,
   "id": "65001565-1d67-4115-ab95-f4da51d2969a",
   "metadata": {},
   "outputs": [
    {
     "data": {
      "text/html": [
       "<div>\n",
       "<style scoped>\n",
       "    .dataframe tbody tr th:only-of-type {\n",
       "        vertical-align: middle;\n",
       "    }\n",
       "\n",
       "    .dataframe tbody tr th {\n",
       "        vertical-align: top;\n",
       "    }\n",
       "\n",
       "    .dataframe thead th {\n",
       "        text-align: right;\n",
       "    }\n",
       "</style>\n",
       "<table border=\"1\" class=\"dataframe\">\n",
       "  <thead>\n",
       "    <tr style=\"text-align: right;\">\n",
       "      <th></th>\n",
       "      <th>title</th>\n",
       "      <th>tagline</th>\n",
       "      <th>genres</th>\n",
       "      <th>overview</th>\n",
       "      <th>similarity_score</th>\n",
       "    </tr>\n",
       "  </thead>\n",
       "  <tbody>\n",
       "    <tr>\n",
       "      <th>0</th>\n",
       "      <td>Last Action Hero</td>\n",
       "      <td>This isn't the movies anymore.</td>\n",
       "      <td>[Adventure, Fantasy, Action, Comedy, Family]</td>\n",
       "      <td>Danny is obsessed with a fictional movie character action hero Jack Slater. When a magical ticket transports him into Jack's latest adventure, Danny finds himself in a world where movie magic and reality collide. Now it's up to Danny to save the life of his hero and new friend.</td>\n",
       "      <td>0.428495</td>\n",
       "    </tr>\n",
       "    <tr>\n",
       "      <th>1</th>\n",
       "      <td>Tropic Thunder</td>\n",
       "      <td>The movie they think they're making... isn't a movie anymore.</td>\n",
       "      <td>[Action, Comedy]</td>\n",
       "      <td>Vietnam veteran 'Four Leaf' Tayback's memoir, Tropic Thunder, is being made into a film, but Director Damien Cockburn can’t control the cast of prima donnas. Behind schedule and over budget, Cockburn is ordered by a studio executive to get filming back on track, or risk its cancellation. On Tayback's advice, Cockburn drops the actors into the middle of the jungle to film the remaining scenes but, unbeknownst to the actors and production, the group have been dropped in the middle of the Golden Triangle, the home of heroin-producing gangs.</td>\n",
       "      <td>0.354633</td>\n",
       "    </tr>\n",
       "    <tr>\n",
       "      <th>2</th>\n",
       "      <td>Armageddon</td>\n",
       "      <td>The Earth's Darkest Day Will Be Man's Finest Hour</td>\n",
       "      <td>[Action, Thriller, Science Fiction, Adventure]</td>\n",
       "      <td>When an asteroid threatens to collide with Earth, NASA honcho Dan Truman determines the only way to stop it is to drill into its surface and detonate a nuclear bomb. This leads him to renowned driller Harry Stamper, who agrees to helm the dangerous space mission provided he can bring along his own hotshot crew. Among them is the cocksure A.J. who Harry thinks isn't good enough for his daughter, until the mission proves otherwise.</td>\n",
       "      <td>0.346364</td>\n",
       "    </tr>\n",
       "    <tr>\n",
       "      <th>3</th>\n",
       "      <td>Deep Impact</td>\n",
       "      <td>Heaven and Earth are about to collide.</td>\n",
       "      <td>[Action, Drama, Romance]</td>\n",
       "      <td>A seven-mile-wide space rock is hurtling toward Earth, threatening to obliterate the planet. Now, it's up to the president of the United States to save the world. He appoints a tough-as-nails veteran astronaut to lead a joint American-Russian crew into space to destroy the comet before impact. Meanwhile, an enterprising reporter uses her smarts to uncover the scoop of the century.</td>\n",
       "      <td>0.332190</td>\n",
       "    </tr>\n",
       "    <tr>\n",
       "      <th>4</th>\n",
       "      <td>Déjà Vu</td>\n",
       "      <td>Your future is set...</td>\n",
       "      <td>[Romance, Drama]</td>\n",
       "      <td>L.A. shop owner Dana and Englishman Sean meet and fall in love at first sight, but Sean is married and Dana is to marry her business partner Alex.</td>\n",
       "      <td>0.330187</td>\n",
       "    </tr>\n",
       "  </tbody>\n",
       "</table>\n",
       "</div>"
      ],
      "text/plain": [
       "              title  \\\n",
       "0  Last Action Hero   \n",
       "1    Tropic Thunder   \n",
       "2        Armageddon   \n",
       "3       Deep Impact   \n",
       "4           Déjà Vu   \n",
       "\n",
       "                                                         tagline  \\\n",
       "0                                 This isn't the movies anymore.   \n",
       "1  The movie they think they're making... isn't a movie anymore.   \n",
       "2              The Earth's Darkest Day Will Be Man's Finest Hour   \n",
       "3                         Heaven and Earth are about to collide.   \n",
       "4                                          Your future is set...   \n",
       "\n",
       "                                           genres  \\\n",
       "0    [Adventure, Fantasy, Action, Comedy, Family]   \n",
       "1                                [Action, Comedy]   \n",
       "2  [Action, Thriller, Science Fiction, Adventure]   \n",
       "3                        [Action, Drama, Romance]   \n",
       "4                                [Romance, Drama]   \n",
       "\n",
       "                                                                                                                                                                                                                                                                                                                                                                                                                                                                                                                                                          overview  \\\n",
       "0                                                                                                                                                                                                                                                                           Danny is obsessed with a fictional movie character action hero Jack Slater. When a magical ticket transports him into Jack's latest adventure, Danny finds himself in a world where movie magic and reality collide. Now it's up to Danny to save the life of his hero and new friend.   \n",
       "1  Vietnam veteran 'Four Leaf' Tayback's memoir, Tropic Thunder, is being made into a film, but Director Damien Cockburn can’t control the cast of prima donnas. Behind schedule and over budget, Cockburn is ordered by a studio executive to get filming back on track, or risk its cancellation. On Tayback's advice, Cockburn drops the actors into the middle of the jungle to film the remaining scenes but, unbeknownst to the actors and production, the group have been dropped in the middle of the Golden Triangle, the home of heroin-producing gangs.   \n",
       "2                                                                                                                When an asteroid threatens to collide with Earth, NASA honcho Dan Truman determines the only way to stop it is to drill into its surface and detonate a nuclear bomb. This leads him to renowned driller Harry Stamper, who agrees to helm the dangerous space mission provided he can bring along his own hotshot crew. Among them is the cocksure A.J. who Harry thinks isn't good enough for his daughter, until the mission proves otherwise.   \n",
       "3                                                                                                                                                                  A seven-mile-wide space rock is hurtling toward Earth, threatening to obliterate the planet. Now, it's up to the president of the United States to save the world. He appoints a tough-as-nails veteran astronaut to lead a joint American-Russian crew into space to destroy the comet before impact. Meanwhile, an enterprising reporter uses her smarts to uncover the scoop of the century.   \n",
       "4                                                                                                                                                                                                                                                                                                                                                                                                               L.A. shop owner Dana and Englishman Sean meet and fall in love at first sight, but Sean is married and Dana is to marry her business partner Alex.   \n",
       "\n",
       "   similarity_score  \n",
       "0          0.428495  \n",
       "1          0.354633  \n",
       "2          0.346364  \n",
       "3          0.332190  \n",
       "4          0.330187  "
      ]
     },
     "metadata": {},
     "output_type": "display_data"
    }
   ],
   "source": [
    "display(top_recs)"
   ]
  }
 ],
 "metadata": {
  "kernelspec": {
   "display_name": "Python 3 (ipykernel)",
   "language": "python",
   "name": "python3"
  },
  "language_info": {
   "codemirror_mode": {
    "name": "ipython",
    "version": 3
   },
   "file_extension": ".py",
   "mimetype": "text/x-python",
   "name": "python",
   "nbconvert_exporter": "python",
   "pygments_lexer": "ipython3",
   "version": "3.11.7"
  }
 },
 "nbformat": 4,
 "nbformat_minor": 5
}
