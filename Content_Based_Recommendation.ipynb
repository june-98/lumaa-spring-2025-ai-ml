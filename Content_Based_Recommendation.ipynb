{
 "cells": [
  {
   "cell_type": "code",
   "execution_count": 1,
   "id": "7e4c8777-4800-4a4d-b7c1-5b9b46cad21d",
   "metadata": {},
   "outputs": [
    {
     "name": "stderr",
     "output_type": "stream",
     "text": [
      "[nltk_data] Downloading package wordnet to /Users/june/nltk_data...\n",
      "[nltk_data]   Package wordnet is already up-to-date!\n",
      "[nltk_data] Downloading package omw-1.4 to /Users/june/nltk_data...\n",
      "[nltk_data]   Package omw-1.4 is already up-to-date!\n",
      "[nltk_data] Downloading package stopwords to /Users/june/nltk_data...\n",
      "[nltk_data]   Package stopwords is already up-to-date!\n",
      "[nltk_data] Downloading package punkt to /Users/june/nltk_data...\n",
      "[nltk_data]   Package punkt is already up-to-date!\n"
     ]
    }
   ],
   "source": [
    "from data_process import finalize_movie_dataset, text_preprocessing\n",
    "from movie_context_recommender import main\n",
    "import pandas as pd\n",
    "pd.set_option('display.max_colwidth', None)"
   ]
  },
  {
   "cell_type": "code",
   "execution_count": 2,
   "id": "7709d585-4c1c-485f-8c13-357ba32f961c",
   "metadata": {},
   "outputs": [],
   "source": [
    "FILE_PATH = r\"Data/tmdb_5000_movies.csv\"\n",
    "USER_INPUT = \"I love thrilling action movies set in space, with a comedic twist.\"\n",
    "TOP_K = 5"
   ]
  },
  {
   "cell_type": "code",
   "execution_count": 3,
   "id": "b0381fe0-a366-45a2-97b8-fc0c72a9132d",
   "metadata": {},
   "outputs": [],
   "source": [
    "top_recs = main(FILE_PATH, USER_INPUT, TOP_K)"
   ]
  },
  {
   "cell_type": "code",
   "execution_count": 4,
   "id": "65001565-1d67-4115-ab95-f4da51d2969a",
   "metadata": {},
   "outputs": [
    {
     "data": {
      "text/html": [
       "<div>\n",
       "<style scoped>\n",
       "    .dataframe tbody tr th:only-of-type {\n",
       "        vertical-align: middle;\n",
       "    }\n",
       "\n",
       "    .dataframe tbody tr th {\n",
       "        vertical-align: top;\n",
       "    }\n",
       "\n",
       "    .dataframe thead th {\n",
       "        text-align: right;\n",
       "    }\n",
       "</style>\n",
       "<table border=\"1\" class=\"dataframe\">\n",
       "  <thead>\n",
       "    <tr style=\"text-align: right;\">\n",
       "      <th></th>\n",
       "      <th>title</th>\n",
       "      <th>tagline</th>\n",
       "      <th>genres</th>\n",
       "      <th>overview</th>\n",
       "      <th>similarity_score</th>\n",
       "    </tr>\n",
       "  </thead>\n",
       "  <tbody>\n",
       "    <tr>\n",
       "      <th>0</th>\n",
       "      <td>Silent Running</td>\n",
       "      <td>Amazing companions on an incredible journey...that journeys beyond imagination!</td>\n",
       "      <td>[Adventure, Drama, Science Fiction]</td>\n",
       "      <td>In a future Earth barren of all flora and fauna, the planet's ecosystems exist only in large pods attached to spacecraft. When word comes in that the pods are to be jettisoned into space and destroyed so that the spacecraft can be reused for commercial purposes, most of the crew of the Valley Forge rejoice at the prospect of going home. Not so for botanist Freeman Lowell who loves the forest and its creatures, so decides to take matters into his own hands to protect what he loves.</td>\n",
       "      <td>0.531838</td>\n",
       "    </tr>\n",
       "    <tr>\n",
       "      <th>1</th>\n",
       "      <td>Moonraker</td>\n",
       "      <td>Outer space now belongs to 007.</td>\n",
       "      <td>[Action, Adventure, Thriller, Science Fiction]</td>\n",
       "      <td>During the transportation of a Space Shuttle a Boeing 747 crashes in the Atlantic Ocean yet when they go to look for the destroyed shuttle it is not there. James Bond investigates the missing mission space shuttle and soon learns that the shuttles owner Hugo Drax wants to kill all of mankind.</td>\n",
       "      <td>0.523287</td>\n",
       "    </tr>\n",
       "    <tr>\n",
       "      <th>2</th>\n",
       "      <td>Lockout</td>\n",
       "      <td>Take no prisoners.</td>\n",
       "      <td>[Action, Thriller, Science Fiction]</td>\n",
       "      <td>Set in the near future, Lockout follows a falsely convicted ex-government agent , whose one chance at obtaining freedom lies in the dangerous mission of rescuing the President's daughter from rioting convicts at an outer space maximum security prison.</td>\n",
       "      <td>0.512996</td>\n",
       "    </tr>\n",
       "    <tr>\n",
       "      <th>3</th>\n",
       "      <td>Alien</td>\n",
       "      <td>In space no one can hear you scream.</td>\n",
       "      <td>[Horror, Action, Thriller, Science Fiction]</td>\n",
       "      <td>During its return to the earth, commercial spaceship Nostromo intercepts a distress signal from a distant planet. When a three-member team of the crew discovers a chamber containing thousands of eggs on the planet, a creature inside one of the eggs attacks an explorer. The entire crew is unaware of the impending nightmare set to descend upon them when the alien parasite planted inside its unfortunate host is birthed.</td>\n",
       "      <td>0.506413</td>\n",
       "    </tr>\n",
       "    <tr>\n",
       "      <th>4</th>\n",
       "      <td>Galaxina</td>\n",
       "      <td>She's too good to be true...and too real to be otherwise.</td>\n",
       "      <td>[Comedy, Science Fiction]</td>\n",
       "      <td>Galaxina is a lifelike, voluptuous android who is assigned to oversee the operations of an intergalactic Space Police cruiser captained by incompetent Cornelius Butt. When a mission requires the ship's crew to be placed in suspended animation for decades, Galaxina finds herself alone for many years, developing emotions and falling in love with the ship's pilot, Thor.</td>\n",
       "      <td>0.477255</td>\n",
       "    </tr>\n",
       "  </tbody>\n",
       "</table>\n",
       "</div>"
      ],
      "text/plain": [
       "            title  \\\n",
       "0  Silent Running   \n",
       "1       Moonraker   \n",
       "2         Lockout   \n",
       "3           Alien   \n",
       "4        Galaxina   \n",
       "\n",
       "                                                                           tagline  \\\n",
       "0  Amazing companions on an incredible journey...that journeys beyond imagination!   \n",
       "1                                                  Outer space now belongs to 007.   \n",
       "2                                                               Take no prisoners.   \n",
       "3                                             In space no one can hear you scream.   \n",
       "4                        She's too good to be true...and too real to be otherwise.   \n",
       "\n",
       "                                           genres  \\\n",
       "0             [Adventure, Drama, Science Fiction]   \n",
       "1  [Action, Adventure, Thriller, Science Fiction]   \n",
       "2             [Action, Thriller, Science Fiction]   \n",
       "3     [Horror, Action, Thriller, Science Fiction]   \n",
       "4                       [Comedy, Science Fiction]   \n",
       "\n",
       "                                                                                                                                                                                                                                                                                                                                                                                                                                                                                                overview  \\\n",
       "0  In a future Earth barren of all flora and fauna, the planet's ecosystems exist only in large pods attached to spacecraft. When word comes in that the pods are to be jettisoned into space and destroyed so that the spacecraft can be reused for commercial purposes, most of the crew of the Valley Forge rejoice at the prospect of going home. Not so for botanist Freeman Lowell who loves the forest and its creatures, so decides to take matters into his own hands to protect what he loves.   \n",
       "1                                                                                                                                                                                                  During the transportation of a Space Shuttle a Boeing 747 crashes in the Atlantic Ocean yet when they go to look for the destroyed shuttle it is not there. James Bond investigates the missing mission space shuttle and soon learns that the shuttles owner Hugo Drax wants to kill all of mankind.   \n",
       "2                                                                                                                                                                                                                                            Set in the near future, Lockout follows a falsely convicted ex-government agent , whose one chance at obtaining freedom lies in the dangerous mission of rescuing the President's daughter from rioting convicts at an outer space maximum security prison.   \n",
       "3                                                                   During its return to the earth, commercial spaceship Nostromo intercepts a distress signal from a distant planet. When a three-member team of the crew discovers a chamber containing thousands of eggs on the planet, a creature inside one of the eggs attacks an explorer. The entire crew is unaware of the impending nightmare set to descend upon them when the alien parasite planted inside its unfortunate host is birthed.   \n",
       "4                                                                                                                      Galaxina is a lifelike, voluptuous android who is assigned to oversee the operations of an intergalactic Space Police cruiser captained by incompetent Cornelius Butt. When a mission requires the ship's crew to be placed in suspended animation for decades, Galaxina finds herself alone for many years, developing emotions and falling in love with the ship's pilot, Thor.   \n",
       "\n",
       "   similarity_score  \n",
       "0          0.531838  \n",
       "1          0.523287  \n",
       "2          0.512996  \n",
       "3          0.506413  \n",
       "4          0.477255  "
      ]
     },
     "metadata": {},
     "output_type": "display_data"
    }
   ],
   "source": [
    "display(top_recs)"
   ]
  }
 ],
 "metadata": {
  "kernelspec": {
   "display_name": "Python 3 (ipykernel)",
   "language": "python",
   "name": "python3"
  },
  "language_info": {
   "codemirror_mode": {
    "name": "ipython",
    "version": 3
   },
   "file_extension": ".py",
   "mimetype": "text/x-python",
   "name": "python",
   "nbconvert_exporter": "python",
   "pygments_lexer": "ipython3",
   "version": "3.11.7"
  }
 },
 "nbformat": 4,
 "nbformat_minor": 5
}
